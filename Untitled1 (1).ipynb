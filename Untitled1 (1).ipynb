{
  "nbformat": 4,
  "nbformat_minor": 0,
  "metadata": {
    "colab": {
      "name": "Untitled1.ipynb",
      "version": "0.3.2",
      "views": {},
      "default_view": {},
      "provenance": [],
      "collapsed_sections": []
    },
    "kernelspec": {
      "name": "python3",
      "display_name": "Python 3"
    }
  },
  "cells": [
    {
      "metadata": {
        "id": "zIgnNJwlQaWB",
        "colab_type": "text"
      },
      "cell_type": "markdown",
      "source": [
        "Colab now supports both Python2 and Python3 for code execution.\n",
        "\n",
        "When creating a new notebook, you'll have the choice between Python 2 and Python 3.\n",
        "You can also change the language associated with a notebook; this information will be written into the .ipynb file itself, and thus will be preserved for future sessions"
      ]
    },
    {
      "metadata": {
        "id": "Nyi-OQzFQfyO",
        "colab_type": "code",
        "colab": {
          "autoexec": {
            "startup": false,
            "wait_interval": 0
          },
          "output_extras": [
            {
              "item_id": 1
            }
          ],
          "base_uri": "https://localhost:8080/",
          "height": 34
        },
        "outputId": "a3d5f309-6929-4561-df89-22a3fb322328",
        "executionInfo": {
          "status": "ok",
          "timestamp": 1520238318174,
          "user_tz": -330,
          "elapsed": 750,
          "user": {
            "displayName": "dilip s",
            "photoUrl": "//lh4.googleusercontent.com/-eQG4j_A_H7k/AAAAAAAAAAI/AAAAAAAAAf0/_ci8Jx6AUPU/s50-c-k-no/photo.jpg",
            "userId": "101823335362486275742"
          }
        }
      },
      "cell_type": "code",
      "source": [
        "import sys\n",
        "print('Hello, Colaboratory from Python {}!'.format(sys.version_info[0]))"
      ],
      "execution_count": 1,
      "outputs": [
        {
          "output_type": "stream",
          "text": [
            "Hello, Colaboratory from Python 3!\n"
          ],
          "name": "stdout"
        }
      ]
    }
  ]
}